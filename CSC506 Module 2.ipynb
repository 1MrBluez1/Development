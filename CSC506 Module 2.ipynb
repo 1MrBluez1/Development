{
 "cells": [
  {
   "cell_type": "code",
   "execution_count": 22,
   "metadata": {},
   "outputs": [
    {
     "name": "stdout",
     "output_type": "stream",
     "text": [
      "0\n",
      "1\n",
      "4\n",
      "9\n",
      "16\n",
      "25\n",
      "36\n",
      "49\n",
      "64\n",
      "81\n",
      "100\n",
      "121\n",
      "144\n",
      "169\n",
      "196\n",
      "225\n",
      "256\n",
      "289\n",
      "324\n",
      "361\n",
      "400\n",
      "441\n",
      "484\n",
      "529\n",
      "576\n",
      "625\n",
      "676\n",
      "729\n",
      "784\n",
      "841\n"
     ]
    }
   ],
   "source": [
    "x = 0.01\n",
    "days = range(30)\n",
    "for x in days:\n",
    "    #x = 0.01\n",
    "    y = x * x\n",
    "    print(y)"
   ]
  },
  {
   "cell_type": "code",
   "execution_count": 27,
   "metadata": {},
   "outputs": [
    {
     "name": "stdout",
     "output_type": "stream",
     "text": [
      "On day 30, your gift of $5,368,709.12 will bring your total to $5,368,709.109999999.\n"
     ]
    }
   ],
   "source": [
    "salary, start, day = 0, 0.01, 1\n",
    "while True:\n",
    "    salary += start\n",
    "    #if salary >= 1000000:\n",
    "        #break\n",
    "    start *= 2\n",
    "    day += 1\n",
    "    if day > 29:\n",
    "        break\n",
    "\n",
    "print(f\"On day {day}, your gift of ${start:,} will bring your total to ${salary:,}.\")"
   ]
  },
  {
   "cell_type": "code",
   "execution_count": null,
   "metadata": {},
   "outputs": [],
   "source": []
  }
 ],
 "metadata": {
  "kernelspec": {
   "display_name": "Python 3",
   "language": "python",
   "name": "python3"
  },
  "language_info": {
   "codemirror_mode": {
    "name": "ipython",
    "version": 3
   },
   "file_extension": ".py",
   "mimetype": "text/x-python",
   "name": "python",
   "nbconvert_exporter": "python",
   "pygments_lexer": "ipython3",
   "version": "3.7.6"
  }
 },
 "nbformat": 4,
 "nbformat_minor": 4
}
